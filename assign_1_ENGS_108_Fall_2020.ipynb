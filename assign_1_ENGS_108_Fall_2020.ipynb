{
  "nbformat": 4,
  "nbformat_minor": 0,
  "metadata": {
    "colab": {
      "name": "assign_1_ENGS_108_Fall_2020.ipynb",
      "provenance": [],
      "include_colab_link": true
    },
    "kernelspec": {
      "name": "python3",
      "display_name": "Python 3"
    }
  },
  "cells": [
    {
      "cell_type": "markdown",
      "metadata": {
        "id": "view-in-github",
        "colab_type": "text"
      },
      "source": [
        "<a href=\"https://colab.research.google.com/github/yakaboskic/ENGS_108_Fall_2020/blob/master/assign_1_ENGS_108_Fall_2020.ipynb\" target=\"_parent\"><img src=\"https://colab.research.google.com/assets/colab-badge.svg\" alt=\"Open In Colab\"/></a>"
      ]
    },
    {
      "cell_type": "markdown",
      "metadata": {
        "id": "Dd0qJjGWPDEY",
        "colab_type": "text"
      },
      "source": [
        "# **ENGS 108 Fall 2020 Assignment 1**\n",
        "\n",
        "*Due September 21, 2020 at 11:59PM on Canvas*\n",
        "\n",
        "**Instructors:** George Cybenko\n",
        "\n",
        "**TAs:** Chase Yakaboski\n",
        "\n",
        "\n",
        "---\n",
        "\n",
        "## **Rules and Requirements**\n",
        "\n",
        "\n",
        "1.   You are only allowed to use Python packages that are explicity imported in \n",
        "the assignment notebook or are standard (bultin) python libraries like random, os, sys, etc, (Standard Bultin Python libraries will have a Python.org documentation). For this assignment you may use:\n",
        "  *   [Numpy](https://numpy.org/doc/stable/)\n",
        "\n",
        "2.   All code must be fit into the designated code or text blocks in the assignment notebook. They are indentified by a **TODO** qualifier. \n",
        "\n",
        "3. For analytical questions that don't require code, type your answer cleanly in Markdown. For help, see the [Google Colab Markdown Guide](https://colab.research.google.com/notebooks/markdown_guide.ipynb).\n",
        "\n",
        "---\n"
      ]
    },
    {
      "cell_type": "code",
      "metadata": {
        "id": "xWojGPjkVglZ",
        "colab_type": "code",
        "colab": {}
      },
      "source": [
        "''' Import Statements '''\n",
        "import numpy as np"
      ],
      "execution_count": null,
      "outputs": []
    },
    {
      "cell_type": "markdown",
      "metadata": {
        "id": "fNZk6SzuQ4DZ",
        "colab_type": "text"
      },
      "source": [
        "## **Problem 1**\n",
        "\n",
        "\n",
        "> This problem involves the 150 by 150 matrix, $A$, defined by:\n",
        "> $$A(i,j) = \\frac{i-j}{i+j} \\text{ for } 1 \\leq i,j\\leq 150$$\n",
        "\n"
      ]
    },
    {
      "cell_type": "code",
      "metadata": {
        "id": "liUedzcWO9K7",
        "colab_type": "code",
        "colab": {}
      },
      "source": [
        "def createMatrix(n=150):\n",
        "  ''' Implement this python function to return a square matrix with the above property. '''\n",
        "  \n",
        "  #-- Delete line below prior to implementation\n",
        "  raise NotImplementedError"
      ],
      "execution_count": null,
      "outputs": []
    },
    {
      "cell_type": "markdown",
      "metadata": {
        "id": "Vjixd00VSwow",
        "colab_type": "text"
      },
      "source": [
        "> **Part A**\n",
        "> What is the largest singular value of $A \\cdot A^T$? Hint: Check out [Numpy SVD](https://numpy.org/doc/stable/reference/generated/numpy.linalg.svd.html?highlight=svd#numpy.linalg.svd)."
      ]
    },
    {
      "cell_type": "code",
      "metadata": {
        "id": "I1n5MaqMSsPN",
        "colab_type": "code",
        "colab": {}
      },
      "source": [
        "#TODO: Write your code here."
      ],
      "execution_count": null,
      "outputs": []
    },
    {
      "cell_type": "markdown",
      "metadata": {
        "colab_type": "text",
        "id": "p8IdNq2kUuRZ"
      },
      "source": [
        "> **Part B**\n",
        "> What is the largest singular value of $A$?"
      ]
    },
    {
      "cell_type": "code",
      "metadata": {
        "id": "1TqcVOUoT4gc",
        "colab_type": "code",
        "colab": {}
      },
      "source": [
        "#TODO: Write your code here."
      ],
      "execution_count": null,
      "outputs": []
    },
    {
      "cell_type": "markdown",
      "metadata": {
        "id": "r8biEh_GVTus",
        "colab_type": "text"
      },
      "source": [
        ""
      ]
    },
    {
      "cell_type": "markdown",
      "metadata": {
        "colab_type": "text",
        "id": "1SpmWvGGU6rr"
      },
      "source": [
        "> **Part C**\n",
        "> What is the sum,\n",
        "> $$\\sum_{i=1}^{150}\\sigma_i$$\n",
        "> where $\\sigma_i$ is the $i$th largest singular value of $A$."
      ]
    },
    {
      "cell_type": "code",
      "metadata": {
        "id": "XO2g4oyRVVRF",
        "colab_type": "code",
        "colab": {}
      },
      "source": [
        "#TODO: Write your code here."
      ],
      "execution_count": null,
      "outputs": []
    },
    {
      "cell_type": "markdown",
      "metadata": {
        "id": "rY52SoXRWCcr",
        "colab_type": "text"
      },
      "source": [
        "> **Part D**\n",
        "> What is the ratio,\n",
        "> $$\\frac{\\sigma_1}{\\sigma_{150}}$$\n",
        "> where $\\sigma_i$ is the $i$th largest singular value of $A$."
      ]
    },
    {
      "cell_type": "code",
      "metadata": {
        "id": "k3T-C1oCWTIC",
        "colab_type": "code",
        "colab": {}
      },
      "source": [
        "#TODO: Write your code here."
      ],
      "execution_count": null,
      "outputs": []
    },
    {
      "cell_type": "markdown",
      "metadata": {
        "id": "XonLqcUDWtYT",
        "colab_type": "text"
      },
      "source": [
        "## **Problem 2**\n",
        "> This problem involves the matrix, $A$, from the above problem.\n",
        ">\n",
        "> **Part A** Does $Ax=b$ have a solution for any vector $b$? Explain your answer."
      ]
    },
    {
      "cell_type": "markdown",
      "metadata": {
        "id": "hp7s7CorW9jC",
        "colab_type": "text"
      },
      "source": [
        "**TODO:** *Type your answer in Markdown here.*\n",
        "\n"
      ]
    },
    {
      "cell_type": "markdown",
      "metadata": {
        "id": "OgI7s3tyXmm_",
        "colab_type": "text"
      },
      "source": [
        "> **Part B** Solve for $x$ when $Ax = [1, 1, \\dots, 1]^T$. Assume the ones matrix has dimensions 150 x 1."
      ]
    },
    {
      "cell_type": "code",
      "metadata": {
        "id": "9a8ONdJXYHnZ",
        "colab_type": "code",
        "colab": {}
      },
      "source": [
        "#TODO: Write your code here."
      ],
      "execution_count": null,
      "outputs": []
    },
    {
      "cell_type": "markdown",
      "metadata": {
        "id": "cNA0S_l_YPrv",
        "colab_type": "text"
      },
      "source": [
        "## **Problem 3**\n",
        "> Define:\n",
        "> $$ f(x_1, x_2, \\dots, x_{20}) = \\frac{1}{1 + e^{-x_1 - x_2 - \\dots - x_{20}}}$$\n",
        ">\n",
        "> **Part A** What is $\\frac{\\partial f}{\\partial x_i}$?"
      ]
    },
    {
      "cell_type": "markdown",
      "metadata": {
        "colab_type": "text",
        "id": "gmlta1e7ZJWI"
      },
      "source": [
        "**TODO:** *Type your answer in Markdown here.*\n",
        "\n"
      ]
    },
    {
      "cell_type": "markdown",
      "metadata": {
        "id": "ofwJGQyTZNxt",
        "colab_type": "text"
      },
      "source": [
        "> **Part B** What is $\\nabla f(1,0,0, \\dots, 0) \\cdot [1, 1, \\dots, 1]^T$"
      ]
    },
    {
      "cell_type": "markdown",
      "metadata": {
        "colab_type": "text",
        "id": "sa4OPestag7n"
      },
      "source": [
        "**TODO:** *Type your answer in Markdown here.*\n",
        "\n"
      ]
    },
    {
      "cell_type": "markdown",
      "metadata": {
        "id": "VPyyBLFQaiM5",
        "colab_type": "text"
      },
      "source": [
        "## **Problem 4**\n",
        "> You go to dinner with five friends and are seated randomly at a round table with six chairs. Your best friend is Gladis. You really don’t like Cedric.\n",
        ">\n",
        "> **Part A** What is the probability that you are seated next to Cedric?"
      ]
    },
    {
      "cell_type": "markdown",
      "metadata": {
        "colab_type": "text",
        "id": "b6acBw5YbLZI"
      },
      "source": [
        "**TODO:** *Type your answer in Markdown here.*\n",
        "\n"
      ]
    },
    {
      "cell_type": "markdown",
      "metadata": {
        "id": "FNOXDvSVa7lx",
        "colab_type": "text"
      },
      "source": [
        "> **Part B** What is the probability that you are seated next to Gladis but not next to Cedric?"
      ]
    },
    {
      "cell_type": "markdown",
      "metadata": {
        "colab_type": "text",
        "id": "c5Oz6hbPbLpH"
      },
      "source": [
        "**TODO:** *Type your answer in Markdown here.*\n",
        "\n"
      ]
    },
    {
      "cell_type": "markdown",
      "metadata": {
        "id": "xv5pUeCXa7YU",
        "colab_type": "text"
      },
      "source": [
        "> **Part C** What is the probability that you are seated between Cedric and Gladis?"
      ]
    },
    {
      "cell_type": "markdown",
      "metadata": {
        "colab_type": "text",
        "id": "iAbCaDqZbL1x"
      },
      "source": [
        "**TODO:** *Type your answer in Markdown here.*\n",
        "\n"
      ]
    }
  ]
}