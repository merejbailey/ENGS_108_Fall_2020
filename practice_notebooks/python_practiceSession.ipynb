{
  "nbformat": 4,
  "nbformat_minor": 0,
  "metadata": {
    "colab": {
      "name": "python-practiceSession.ipynb",
      "provenance": [],
      "authorship_tag": "ABX9TyNqymoITuYF+6s0t/lfoekR",
      "include_colab_link": true
    },
    "kernelspec": {
      "name": "python3",
      "display_name": "Python 3"
    }
  },
  "cells": [
    {
      "cell_type": "markdown",
      "metadata": {
        "id": "view-in-github",
        "colab_type": "text"
      },
      "source": [
        "<a href=\"https://colab.research.google.com/github/yakaboskic/ENGS_108_Fall_2020/blob/master/practice_notebooks/python_practiceSession.ipynb\" target=\"_parent\"><img src=\"https://colab.research.google.com/assets/colab-badge.svg\" alt=\"Open In Colab\"/></a>"
      ]
    },
    {
      "cell_type": "code",
      "metadata": {
        "id": "gN9mJk7893n9",
        "colab_type": "code",
        "colab": {}
      },
      "source": [
        "import numpy as np\n",
        "import pandas as pd\n",
        "import matplotlib.pyplot as plt"
      ],
      "execution_count": 1,
      "outputs": []
    },
    {
      "cell_type": "code",
      "metadata": {
        "id": "XEwwj7ok-Ode",
        "colab_type": "code",
        "colab": {}
      },
      "source": [
        "mnist_train = pd.read_csv('/content/sample_data/mnist_train_small.csv')\n",
        "mnist_test = pd.read_csv('/content/sample_data/mnist_test.csv')"
      ],
      "execution_count": 6,
      "outputs": []
    },
    {
      "cell_type": "code",
      "metadata": {
        "id": "HwpQt1He-uVO",
        "colab_type": "code",
        "colab": {}
      },
      "source": [
        "mnist_train = mnist_train.to_numpy()\n",
        "mnist_test = mnist_test.to_numpy()"
      ],
      "execution_count": 7,
      "outputs": []
    },
    {
      "cell_type": "code",
      "metadata": {
        "id": "fAhhFzpN-xOt",
        "colab_type": "code",
        "colab": {
          "base_uri": "https://localhost:8080/",
          "height": 144
        },
        "outputId": "fe4d85e0-bbef-41cd-a311-f1a946a50677"
      },
      "source": [
        "mnist_train"
      ],
      "execution_count": 8,
      "outputs": [
        {
          "output_type": "execute_result",
          "data": {
            "text/plain": [
              "array([[5, 0, 0, ..., 0, 0, 0],\n",
              "       [7, 0, 0, ..., 0, 0, 0],\n",
              "       [9, 0, 0, ..., 0, 0, 0],\n",
              "       ...,\n",
              "       [2, 0, 0, ..., 0, 0, 0],\n",
              "       [9, 0, 0, ..., 0, 0, 0],\n",
              "       [5, 0, 0, ..., 0, 0, 0]])"
            ]
          },
          "metadata": {
            "tags": []
          },
          "execution_count": 8
        }
      ]
    },
    {
      "cell_type": "code",
      "metadata": {
        "id": "SeahqDur_XBV",
        "colab_type": "code",
        "colab": {
          "base_uri": "https://localhost:8080/",
          "height": 35
        },
        "outputId": "e77e79f0-415f-4ef5-abcc-db0e6ad1e65b"
      },
      "source": [
        "mnist_train.shape"
      ],
      "execution_count": 9,
      "outputs": [
        {
          "output_type": "execute_result",
          "data": {
            "text/plain": [
              "(19999, 785)"
            ]
          },
          "metadata": {
            "tags": []
          },
          "execution_count": 9
        }
      ]
    },
    {
      "cell_type": "code",
      "metadata": {
        "id": "h0h0MV30_aV0",
        "colab_type": "code",
        "colab": {}
      },
      "source": [
        "cls_train = mnist_train[:,0]\n",
        "cls_test = mnist_test[:,0]"
      ],
      "execution_count": 10,
      "outputs": []
    },
    {
      "cell_type": "code",
      "metadata": {
        "id": "YIQ8FSORATJk",
        "colab_type": "code",
        "colab": {}
      },
      "source": [
        "mnist_train = mnist_train[:,1:]\n",
        "mnist_test = mnist_test[:,1:]"
      ],
      "execution_count": 12,
      "outputs": []
    },
    {
      "cell_type": "code",
      "metadata": {
        "id": "DI74A5NtAUSc",
        "colab_type": "code",
        "colab": {
          "base_uri": "https://localhost:8080/",
          "height": 35
        },
        "outputId": "a1e3e223-b2f4-4cc3-bfee-ea0061978e0c"
      },
      "source": [
        "mnist_train.shape"
      ],
      "execution_count": 13,
      "outputs": [
        {
          "output_type": "execute_result",
          "data": {
            "text/plain": [
              "(19999, 784)"
            ]
          },
          "metadata": {
            "tags": []
          },
          "execution_count": 13
        }
      ]
    },
    {
      "cell_type": "code",
      "metadata": {
        "id": "dR4bAEQnAltM",
        "colab_type": "code",
        "colab": {}
      },
      "source": [
        "img0 = mnist_train[0,:]"
      ],
      "execution_count": 14,
      "outputs": []
    },
    {
      "cell_type": "code",
      "metadata": {
        "id": "dhVVyFuJBF1S",
        "colab_type": "code",
        "colab": {}
      },
      "source": [
        "img0 = img0.reshape((28, 28))"
      ],
      "execution_count": 16,
      "outputs": []
    },
    {
      "cell_type": "code",
      "metadata": {
        "id": "PrfvfB83BG1b",
        "colab_type": "code",
        "colab": {
          "base_uri": "https://localhost:8080/",
          "height": 283
        },
        "outputId": "2524249a-9b07-4dea-ec2e-07876ff5434b"
      },
      "source": [
        "plt.imshow(img0)"
      ],
      "execution_count": 18,
      "outputs": [
        {
          "output_type": "execute_result",
          "data": {
            "text/plain": [
              "<matplotlib.image.AxesImage at 0x7f8fd8e7b320>"
            ]
          },
          "metadata": {
            "tags": []
          },
          "execution_count": 18
        },
        {
          "output_type": "display_data",
          "data": {
            "image/png": "[encoded data removed]",
            "text/plain": [
              "<Figure size 432x288 with 1 Axes>"
            ]
          },
          "metadata": {
            "tags": [],
            "needs_background": "light"
          }
        }
      ]
    },
    {
      "cell_type": "code",
      "metadata": {
        "id": "3k7cMf6TBcDj",
        "colab_type": "code",
        "colab": {
          "base_uri": "https://localhost:8080/",
          "height": 283
        },
        "outputId": "74fb606b-d7d0-4310-86e3-b69db36130db"
      },
      "source": [
        "plt.imshow(img0, cmap='Greys')"
      ],
      "execution_count": 19,
      "outputs": [
        {
          "output_type": "execute_result",
          "data": {
            "text/plain": [
              "<matplotlib.image.AxesImage at 0x7f8fd8e17828>"
            ]
          },
          "metadata": {
            "tags": []
          },
          "execution_count": 19
        },
        {
          "output_type": "display_data",
          "data": {
            "image/png": "[encoded data removed]",
            "text/plain": [
              "<Figure size 432x288 with 1 Axes>"
            ]
          },
          "metadata": {
            "tags": [],
            "needs_background": "light"
          }
        }
      ]
    },
    {
      "cell_type": "code",
      "metadata": {
        "id": "l5YntAVuBxSL",
        "colab_type": "code",
        "colab": {}
      },
      "source": [
        "from sklearn.cluster import KMeans\n",
        "from sklearn.cluster import k_means"
      ],
      "execution_count": 20,
      "outputs": []
    },
    {
      "cell_type": "code",
      "metadata": {
        "id": "4FC0qW4lCn3x",
        "colab_type": "code",
        "colab": {}
      },
      "source": [
        "model = KMeans(n_clusters=10)"
      ],
      "execution_count": 26,
      "outputs": []
    },
    {
      "cell_type": "code",
      "metadata": {
        "id": "QupAs0MMDkzp",
        "colab_type": "code",
        "colab": {
          "base_uri": "https://localhost:8080/",
          "height": 72
        },
        "outputId": "1ba1ad75-b2b6-4dfa-ef60-38de9255604d"
      },
      "source": [
        "model.fit(mnist_train)"
      ],
      "execution_count": 27,
      "outputs": [
        {
          "output_type": "execute_result",
          "data": {
            "text/plain": [
              "KMeans(algorithm='auto', copy_x=True, init='k-means++', max_iter=300,\n",
              "       n_clusters=10, n_init=10, n_jobs=None, precompute_distances='auto',\n",
              "       random_state=None, tol=0.0001, verbose=0)"
            ]
          },
          "metadata": {
            "tags": []
          },
          "execution_count": 27
        }
      ]
    },
    {
      "cell_type": "code",
      "metadata": {
        "id": "swUSKUp-DuGZ",
        "colab_type": "code",
        "colab": {
          "base_uri": "https://localhost:8080/",
          "height": 283
        },
        "outputId": "2e6259d0-f26f-4786-d92c-4aaf7ac32bf3"
      },
      "source": [
        "test_img = mnist_test[0,:]\n",
        "plt.imshow(test_img.reshape((28,28)), cmap='Greys')"
      ],
      "execution_count": 35,
      "outputs": [
        {
          "output_type": "execute_result",
          "data": {
            "text/plain": [
              "<matplotlib.image.AxesImage at 0x7f8fc64b8828>"
            ]
          },
          "metadata": {
            "tags": []
          },
          "execution_count": 35
        },
        {
          "output_type": "display_data",
          "data": {
            "image/png": "[encoded data removed]",
            "text/plain": [
              "<Figure size 432x288 with 1 Axes>"
            ]
          },
          "metadata": {
            "tags": [],
            "needs_background": "light"
          }
        }
      ]
    },
    {
      "cell_type": "code",
      "metadata": {
        "id": "m-8EiiW_FanS",
        "colab_type": "code",
        "colab": {
          "base_uri": "https://localhost:8080/",
          "height": 35
        },
        "outputId": "0bf60d5d-28b3-45e6-e13d-a29008a32210"
      },
      "source": [
        "test_img.shape"
      ],
      "execution_count": 36,
      "outputs": [
        {
          "output_type": "execute_result",
          "data": {
            "text/plain": [
              "(784,)"
            ]
          },
          "metadata": {
            "tags": []
          },
          "execution_count": 36
        }
      ]
    },
    {
      "cell_type": "code",
      "metadata": {
        "id": "-lZHym4yD5fB",
        "colab_type": "code",
        "colab": {}
      },
      "source": [
        "test_img = np.expand_dims(test_img, 0)"
      ],
      "execution_count": 37,
      "outputs": []
    },
    {
      "cell_type": "code",
      "metadata": {
        "id": "6n7OX2tmE1XZ",
        "colab_type": "code",
        "colab": {
          "base_uri": "https://localhost:8080/",
          "height": 35
        },
        "outputId": "b0fd3fda-4212-4179-ed39-811f5cdb82e2"
      },
      "source": [
        "model.predict(test_img)"
      ],
      "execution_count": 40,
      "outputs": [
        {
          "output_type": "execute_result",
          "data": {
            "text/plain": [
              "array([2], dtype=int32)"
            ]
          },
          "metadata": {
            "tags": []
          },
          "execution_count": 40
        }
      ]
    },
    {
      "cell_type": "code",
      "metadata": {
        "id": "lVLEEd2JFYe4",
        "colab_type": "code",
        "colab": {
          "base_uri": "https://localhost:8080/",
          "height": 1000
        },
        "outputId": "a8b1f73d-c767-4ee9-95ac-4b598ddc35c9"
      },
      "source": [
        "model.cluster_centers_[2]"
      ],
      "execution_count": 43,
      "outputs": [
        {
          "output_type": "execute_result",
          "data": {
            "text/plain": [
              "array([ 0.00000000e+00,  0.00000000e+00,  0.00000000e+00,  0.00000000e+00,\n",
              "        0.00000000e+00,  0.00000000e+00,  0.00000000e+00,  0.00000000e+00,\n",
              "        0.00000000e+00,  0.00000000e+00,  0.00000000e+00,  0.00000000e+00,\n",
              "        1.30104261e-18, -2.49800181e-16, -2.49800181e-16,  1.34441069e-17,\n",
              "        0.00000000e+00,  0.00000000e+00,  0.00000000e+00,  0.00000000e+00,\n",
              "        0.00000000e+00,  0.00000000e+00,  0.00000000e+00,  0.00000000e+00,\n",
              "        0.00000000e+00,  0.00000000e+00,  0.00000000e+00,  0.00000000e+00,\n",
              "        0.00000000e+00,  0.00000000e+00,  0.00000000e+00,  0.00000000e+00,\n",
              "        0.00000000e+00,  0.00000000e+00, -3.45209972e-16,  1.45716772e-16,\n",
              "       -1.60982339e-15, -3.06699111e-15,  2.10942375e-15, -9.71445147e-15,\n",
              "       -1.06303855e-14,  1.28230759e-14, -8.49320614e-15,  1.05471187e-14,\n",
              "       -8.40993941e-15,  3.13638004e-15, -6.41153797e-15, -1.30451205e-15,\n",
              "        1.62023173e-15, -6.24500451e-17,  0.00000000e+00,  0.00000000e+00,\n",
              "        0.00000000e+00,  0.00000000e+00,  0.00000000e+00,  0.00000000e+00,\n",
              "        0.00000000e+00,  0.00000000e+00,  0.00000000e+00,  3.64291930e-17,\n",
              "       -3.62557206e-16,  3.26995375e-16, -1.33920652e-15,  3.60822483e-16,\n",
              "        1.16018306e-14, -2.10942375e-14, -1.92068583e-14,  3.01980663e-14,\n",
              "       -2.66453526e-14, -4.52970994e-14, -9.50350909e-14,  4.08562073e-14,\n",
              "       -1.68753900e-14,  4.44089210e-15, -7.77156117e-14, -5.81756865e-14,\n",
              "        2.90878432e-14,  2.54241073e-14, -9.27036226e-15, -1.87350135e-15,\n",
              "        2.56045185e-15, -6.45317133e-16,  0.00000000e+00,  0.00000000e+00,\n",
              "        0.00000000e+00,  0.00000000e+00,  0.00000000e+00,  4.31946146e-16,\n",
              "        1.56125113e-16,  4.52975048e-02,  2.08829175e-01,  5.48176583e-01,\n",
              "        8.80614203e-01,  1.38387716e+00,  2.12437620e+00,  2.50748560e+00,\n",
              "        2.83032630e+00,  2.50441459e+00,  2.30364683e+00,  2.09481766e+00,\n",
              "        1.44145873e+00,  8.85604607e-01,  6.38003839e-01,  6.21880998e-01,\n",
              "        3.44721689e-01,  1.83493282e-01,  8.09980806e-02,  1.65067179e-02,\n",
              "        4.13558077e-15, -2.46330734e-15,  1.19695920e-16,  0.00000000e+00,\n",
              "        0.00000000e+00,  1.45873321e-02,  1.22840691e-02,  2.68714012e-03,\n",
              "        1.73896353e-01,  1.30978887e+00,  3.53666027e+00,  7.75316699e+00,\n",
              "        1.39251440e+01,  2.33689060e+01,  3.51428023e+01,  4.79374280e+01,\n",
              "        5.80817658e+01,  6.30859885e+01,  6.29508637e+01,  5.74886756e+01,\n",
              "        4.56276392e+01,  3.17965451e+01,  2.09282150e+01,  1.30176583e+01,\n",
              "        8.42149712e+00,  5.40882917e+00,  2.72168906e+00,  1.21765835e+00,\n",
              "        2.63723608e-01,  1.38195777e-02,  4.44089210e-16, -5.33427469e-17,\n",
              "        0.00000000e+00,  0.00000000e+00, -6.62664368e-16,  1.98848369e-01,\n",
              "        1.88176583e+00,  6.37965451e+00,  1.47581574e+01,  2.85078695e+01,\n",
              "        5.01497121e+01,  7.79923225e+01,  1.09226871e+02,  1.39965067e+02,\n",
              "        1.60017658e+02,  1.71246449e+02,  1.70486372e+02,  1.60123225e+02,\n",
              "        1.39514779e+02,  1.05577351e+02,  7.16545106e+01,  4.53627639e+01,\n",
              "        2.82856046e+01,  1.77335893e+01,  9.52360845e+00,  3.99923225e+00,\n",
              "        1.72168906e+00,  4.43378119e-01,  4.91362764e-02,  0.00000000e+00,\n",
              "        0.00000000e+00,  0.00000000e+00,  2.11132438e-02,  7.00191939e-01,\n",
              "        4.59040307e+00,  1.30030710e+01,  2.94575816e+01,  5.54195777e+01,\n",
              "        8.95013436e+01,  1.29153551e+02,  1.66978503e+02,  1.90271401e+02,\n",
              "        1.97896737e+02,  1.97800384e+02,  1.95842226e+02,  1.91535509e+02,\n",
              "        1.81377735e+02,  1.55047217e+02,  1.13738580e+02,  7.33312860e+01,\n",
              "        4.40575816e+01,  2.54111324e+01,  1.41458733e+01,  7.02802303e+00,\n",
              "        2.98502879e+00,  1.08829175e+00,  2.52207294e-01, -2.87964097e-16,\n",
              "        1.19695920e-16, -7.63278329e-16,  4.87523992e-02,  1.51823417e+00,\n",
              "        7.24452975e+00,  1.86230326e+01,  4.03420345e+01,  6.93404990e+01,\n",
              "        1.05311708e+02,  1.41864107e+02,  1.63330902e+02,  1.63749328e+02,\n",
              "        1.53113628e+02,  1.41546641e+02,  1.39585797e+02,  1.46447217e+02,\n",
              "        1.55732821e+02,  1.51554319e+02,  1.23124760e+02,  8.24702495e+01,\n",
              "        4.69600768e+01,  2.49416507e+01,  1.22940499e+01,  6.24875240e+00,\n",
              "        2.79961612e+00,  6.77159309e-01,  1.41266795e-01,  2.84494650e-16,\n",
              "       -2.08166817e-16, -2.12330153e-15,  2.03454894e-02,  2.18541267e+00,\n",
              "        8.31170825e+00,  1.88664107e+01,  3.97320537e+01,  6.70836852e+01,\n",
              "        9.75934741e+01,  1.20957390e+02,  1.24628407e+02,  1.07357774e+02,\n",
              "        8.32203455e+01,  7.22272553e+01,  7.59036468e+01,  9.43873321e+01,\n",
              "        1.18792322e+02,  1.28780806e+02,  1.13945873e+02,  8.04195777e+01,\n",
              "        4.32230326e+01,  2.03692898e+01,  8.90287908e+00,  3.99232246e+00,\n",
              "        1.98541267e+00,  6.71401152e-01,  9.59692898e-03, -1.55778168e-15,\n",
              "       -1.24900090e-16,  1.91513472e-15,  5.71976967e-02,  1.86525912e+00,\n",
              "        6.77811900e+00,  1.57174664e+01,  3.30287908e+01,  5.61055662e+01,\n",
              "        8.15969290e+01,  9.62948177e+01,  8.94030710e+01,  6.70145873e+01,\n",
              "        4.51224568e+01,  4.13163148e+01,  5.48207294e+01,  7.91930902e+01,\n",
              "        1.06540883e+02,  1.18960077e+02,  1.04077543e+02,  7.12675624e+01,\n",
              "        3.69988484e+01,  1.63378119e+01,  6.48790787e+00,  3.08061420e+00,\n",
              "        1.31516315e+00,  6.43761996e-01,  3.53166987e-02, -3.85108612e-16,\n",
              "       -3.13984949e-16,  1.70696790e-15,  8.79078695e-02,  1.35278311e+00,\n",
              "        4.26295585e+00,  1.16184261e+01,  2.55877159e+01,  4.48721689e+01,\n",
              "        6.68414587e+01,  8.16967370e+01,  7.88867562e+01,  6.42437620e+01,\n",
              "        5.37946257e+01,  5.80449136e+01,  7.60729367e+01,  9.91044146e+01,\n",
              "        1.17480614e+02,  1.15369290e+02,  9.38230326e+01,  5.86545106e+01,\n",
              "        2.99846449e+01,  1.21274472e+01,  4.96660269e+00,  1.85220729e+00,\n",
              "        7.19001919e-01,  4.13051823e-01,  3.99232246e-02,  5.55111512e-17,\n",
              "        3.22658567e-16, -2.18575158e-15,  1.11708253e-01,  7.38195777e-01,\n",
              "        3.18003839e+00,  9.48790787e+00,  2.04625720e+01,  3.68095969e+01,\n",
              "        6.04571977e+01,  8.09374280e+01,  9.22771593e+01,  9.49147793e+01,\n",
              "        1.00533973e+02,  1.11867562e+02,  1.25909789e+02,  1.35773896e+02,\n",
              "        1.37185029e+02,  1.18196929e+02,  8.35305182e+01,  4.81497121e+01,\n",
              "        2.49520154e+01,  1.00648752e+01,  3.60345489e+00,  1.30978887e+00,\n",
              "        4.90595010e-01,  2.45297505e-01, -4.55191440e-15,  2.60208521e-18,\n",
              "        0.00000000e+00,  9.15933995e-16,  2.07293666e-02,  5.86948177e-01,\n",
              "        2.02610365e+00,  7.12015355e+00,  1.69608445e+01,  3.24188100e+01,\n",
              "        6.00203455e+01,  9.05562380e+01,  1.18871785e+02,  1.40009981e+02,\n",
              "        1.56626104e+02,  1.67946257e+02,  1.73071785e+02,  1.72880614e+02,\n",
              "        1.60496353e+02,  1.28390019e+02,  8.69197697e+01,  5.30483685e+01,\n",
              "        2.70656430e+01,  1.06360845e+01,  2.76199616e+00,  9.65451056e-01,\n",
              "        2.60652591e-01,  1.38579655e-01, -2.15105711e-15, -3.13984949e-16,\n",
              "        0.00000000e+00, -4.07660017e-16, -5.87030424e-15,  3.45489443e-01,\n",
              "        1.58310940e+00,  4.68829175e+00,  1.33800384e+01,  2.85013436e+01,\n",
              "        5.71566219e+01,  9.40299424e+01,  1.30460269e+02,  1.58857965e+02,\n",
              "        1.76304415e+02,  1.83236468e+02,  1.84324760e+02,  1.80122841e+02,\n",
              "        1.67350864e+02,  1.41720154e+02,  1.08512092e+02,  7.24326296e+01,\n",
              "        3.98641075e+01,  1.74602687e+01,  5.35047985e+00,  1.58579655e+00,\n",
              "        3.54318618e-01,  1.27447217e-01,  6.32827124e-15, -1.27502175e-16,\n",
              "        0.00000000e+00, -5.72458747e-17,  1.50227053e-15,  9.78886756e-02,\n",
              "        1.15738964e+00,  3.47447217e+00,  9.61228407e+00,  2.30767754e+01,\n",
              "        4.70783109e+01,  7.97838772e+01,  1.12294434e+02,  1.36439155e+02,\n",
              "        1.50539731e+02,  1.54690979e+02,  1.55325528e+02,  1.54670250e+02,\n",
              "        1.52734357e+02,  1.45385413e+02,  1.28831478e+02,  9.96859885e+01,\n",
              "        6.26664107e+01,  3.13385797e+01,  1.22882917e+01,  3.17965451e+00,\n",
              "        6.76007678e-01,  1.56621881e-01, -7.07767178e-16,  0.00000000e+00,\n",
              "        0.00000000e+00,  0.00000000e+00,  1.88099808e-02,  1.43186180e-01,\n",
              "        8.57197697e-01,  2.88752399e+00,  6.35239923e+00,  1.43381958e+01,\n",
              "        3.08429942e+01,  5.39723608e+01,  7.52049904e+01,  9.02714012e+01,\n",
              "        9.97857965e+01,  1.02060653e+02,  1.00316315e+02,  1.03047601e+02,\n",
              "        1.13530134e+02,  1.29355854e+02,  1.37372745e+02,  1.23262188e+02,\n",
              "        8.64571977e+01,  4.73239923e+01,  2.13435701e+01,  6.22687140e+00,\n",
              "        1.14740883e+00,  1.30134357e-01,  3.83877159e-03,  3.26295585e-02,\n",
              "        0.00000000e+00, -2.07299455e-16,  1.23608445e-01,  5.35508637e-01,\n",
              "        1.66026871e+00,  3.20422265e+00,  4.73781190e+00,  9.65143954e+00,\n",
              "        2.04264875e+01,  3.42134357e+01,  4.58168906e+01,  5.41239923e+01,\n",
              "        5.93166987e+01,  5.58003839e+01,  5.10698656e+01,  5.64422265e+01,\n",
              "        7.21508637e+01,  1.03697889e+02,  1.34403839e+02,  1.36555086e+02,\n",
              "        1.05938196e+02,  6.18422265e+01,  2.96226488e+01,  1.05451056e+01,\n",
              "        2.17658349e+00,  2.54894434e-01,  1.07869482e-01,  6.71785029e-02,\n",
              "        0.00000000e+00, -1.81278603e-16,  2.61804223e-01,  1.07370441e+00,\n",
              "        2.78310940e+00,  4.60076775e+00,  6.66026871e+00,  1.15301344e+01,\n",
              "        2.03988484e+01,  3.13132438e+01,  3.94184261e+01,  4.18019194e+01,\n",
              "        4.02449136e+01,  3.17481766e+01,  2.42426104e+01,  2.53381958e+01,\n",
              "        4.48437620e+01,  8.42648752e+01,  1.29115163e+02,  1.43908637e+02,\n",
              "        1.17059501e+02,  7.29324376e+01,  3.58717850e+01,  1.36107486e+01,\n",
              "        3.20422265e+00,  3.83493282e-01,  6.60268714e-02,  3.45489443e-03,\n",
              "       -1.65666092e-16,  1.03646833e-02,  4.44913628e-01,  1.72629559e+00,\n",
              "        4.31900192e+00,  8.23915547e+00,  1.26310940e+01,  2.02345489e+01,\n",
              "        3.03961612e+01,  3.88341651e+01,  4.29919386e+01,  4.00184261e+01,\n",
              "        3.44944338e+01,  2.18648752e+01,  1.09969290e+01,  1.21454894e+01,\n",
              "        3.22986564e+01,  7.94848369e+01,  1.33157774e+02,  1.51282534e+02,\n",
              "        1.21824184e+02,  7.73961612e+01,  3.89562380e+01,  1.50886756e+01,\n",
              "        3.78963532e+00,  2.62955854e-01,  2.68714012e-03,  3.41740525e-16,\n",
              "        0.00000000e+00,  5.68138196e-02,  6.29174664e-01,  2.39500960e+00,\n",
              "        6.56429942e+00,  1.35915547e+01,  2.20000000e+01,  3.33550864e+01,\n",
              "        4.71735125e+01,  5.64902111e+01,  5.71424184e+01,  4.85228407e+01,\n",
              "        3.70917466e+01,  2.18372361e+01,  1.31731286e+01,  1.85424184e+01,\n",
              "        4.67401152e+01,  9.93831094e+01,  1.50208829e+02,  1.59836852e+02,\n",
              "        1.22532821e+02,  7.54564299e+01,  3.78595010e+01,  1.36955854e+01,\n",
              "        3.61765835e+00,  5.80806142e-01,  1.63531670e-01, -1.66533454e-16,\n",
              "        0.00000000e+00,  1.19001919e-01,  8.59117083e-01,  3.28714012e+00,\n",
              "        9.18157390e+00,  1.87723608e+01,  3.17984645e+01,  4.97143954e+01,\n",
              "        7.12191939e+01,  8.44552783e+01,  8.66422265e+01,  7.70092131e+01,\n",
              "        5.92744722e+01,  4.52944338e+01,  4.29274472e+01,  5.88879079e+01,\n",
              "        9.55646833e+01,  1.43214203e+02,  1.74183493e+02,  1.60917466e+02,\n",
              "        1.12628791e+02,  6.51021113e+01,  3.06786948e+01,  1.04195777e+01,\n",
              "        2.84644914e+00,  3.90786948e-01,  1.62380038e-01,  0.00000000e+00,\n",
              "        0.00000000e+00,  6.83301344e-02,  7.91554702e-01,  2.96353167e+00,\n",
              "        8.86641075e+00,  1.87961612e+01,  3.68161228e+01,  6.04276392e+01,\n",
              "        9.07136276e+01,  1.16732821e+02,  1.31030710e+02,  1.31318234e+02,\n",
              "        1.21036084e+02,  1.12631478e+02,  1.16305182e+02,  1.35686756e+02,\n",
              "        1.63652975e+02,  1.87246833e+02,  1.80720921e+02,  1.40008829e+02,\n",
              "        8.72406910e+01,  4.47309021e+01,  1.88875240e+01,  6.22495202e+00,\n",
              "        1.69404990e+00,  3.14395393e-01,  2.45681382e-02,  0.00000000e+00,\n",
              "        0.00000000e+00,  1.53550864e-03,  3.49712092e-01,  2.00537428e+00,\n",
              "        5.96890595e+00,  1.48433781e+01,  3.19186180e+01,  5.61708253e+01,\n",
              "        8.98245681e+01,  1.25438004e+02,  1.57415355e+02,  1.80322457e+02,\n",
              "        1.89985413e+02,  1.92248752e+02,  1.94648752e+02,  2.01149328e+02,\n",
              "        2.00829559e+02,  1.82457582e+02,  1.42261036e+02,  9.25831094e+01,\n",
              "        5.02595010e+01,  2.29685221e+01,  8.84107486e+00,  2.59001919e+00,\n",
              "        8.15355086e-01,  1.88867562e-01, -2.42861287e-16,  0.00000000e+00,\n",
              "        0.00000000e+00,  0.00000000e+00,  1.54318618e-01,  8.79462572e-01,\n",
              "        2.62840691e+00,  7.18003839e+00,  1.82165067e+01,  3.46763916e+01,\n",
              "        5.92000000e+01,  8.97170825e+01,  1.24846065e+02,  1.60300192e+02,\n",
              "        1.85825720e+02,  1.97573129e+02,  1.94628023e+02,  1.79197313e+02,\n",
              "        1.50858349e+02,  1.13136660e+02,  7.28426104e+01,  4.05236084e+01,\n",
              "        1.85213052e+01,  7.63262956e+00,  2.64683301e+00,  6.19961612e-01,\n",
              "        1.14779271e-01,  6.52591171e-03, -1.66533454e-16,  0.00000000e+00,\n",
              "        0.00000000e+00,  0.00000000e+00,  1.07485605e-02,  2.13819578e-01,\n",
              "        8.42226488e-01,  2.25834933e+00,  5.40652591e+00,  1.02982726e+01,\n",
              "        1.90905950e+01,  3.22641075e+01,  4.66687140e+01,  6.44694818e+01,\n",
              "        8.02529750e+01,  8.78982726e+01,  8.44418426e+01,  7.09416507e+01,\n",
              "        5.29439539e+01,  3.42533589e+01,  1.91596929e+01,  8.90671785e+00,\n",
              "        3.70633397e+00,  1.47140115e+00,  4.22648752e-01,  4.14587332e-02,\n",
              "       -4.44089210e-15,  1.06858966e-15,  2.68882139e-17,  0.00000000e+00,\n",
              "        0.00000000e+00,  0.00000000e+00,  2.39391840e-16, -2.81025203e-16,\n",
              "        5.60662627e-15,  3.14779271e-02,  2.06142035e-01,  6.43378119e-01,\n",
              "        1.21880998e+00,  1.99692898e+00,  3.09251440e+00,  3.95393474e+00,\n",
              "        5.17159309e+00,  5.97619962e+00,  5.76967370e+00,  4.68445298e+00,\n",
              "        3.36506718e+00,  2.41228407e+00,  1.30633397e+00,  5.07485605e-01,\n",
              "        2.54894434e-01,  1.68905950e-02,  3.07101727e-03,  3.77475828e-15,\n",
              "        9.43689571e-16,  0.00000000e+00,  0.00000000e+00,  0.00000000e+00,\n",
              "        0.00000000e+00,  0.00000000e+00,  0.00000000e+00,  3.81639165e-17,\n",
              "        1.91513472e-15, -2.85882429e-15, -1.15463195e-14,  7.32747196e-15,\n",
              "       -4.52970994e-14, -2.10942375e-13, -2.76223489e-13,  1.95777351e-02,\n",
              "        9.28982726e-02,  4.91362764e-02,  3.07101727e-03, -3.81916720e-14,\n",
              "       -7.72715225e-14, -6.26165786e-14,  4.81836793e-14,  4.08562073e-14,\n",
              "        6.32827124e-15, -3.05311332e-15, -6.43929354e-15,  7.59808882e-16,\n",
              "       -4.33680869e-19,  0.00000000e+00,  0.00000000e+00,  0.00000000e+00,\n",
              "        0.00000000e+00,  0.00000000e+00,  0.00000000e+00,  0.00000000e+00,\n",
              "       -1.08420217e-19,  5.67254577e-16,  1.86656246e-15, -6.52256027e-16,\n",
              "       -5.00988140e-15, -6.55031585e-15, -4.60742555e-15, -1.08246745e-14,\n",
              "       -3.44169138e-15,  2.48689958e-14, -2.37587727e-14,  2.96429548e-14,\n",
              "       -1.11022302e-16, -7.88258347e-15, -7.66053887e-15, -1.54043445e-15,\n",
              "        8.53483950e-16, -3.00107161e-16,  1.51961776e-15, -3.31332184e-16,\n",
              "        0.00000000e+00,  0.00000000e+00,  0.00000000e+00,  0.00000000e+00])"
            ]
          },
          "metadata": {
            "tags": []
          },
          "execution_count": 43
        }
      ]
    },
    {
      "cell_type": "code",
      "metadata": {
        "id": "ewvrP6yfGb_I",
        "colab_type": "code",
        "colab": {
          "base_uri": "https://localhost:8080/",
          "height": 283
        },
        "outputId": "ba20e86b-5c05-4c7e-bb04-11d9ae9f6166"
      },
      "source": [
        "plt.imshow(model.cluster_centers_[6].reshape((28,28)), cmap='Greys')"
      ],
      "execution_count": 52,
      "outputs": [
        {
          "output_type": "execute_result",
          "data": {
            "text/plain": [
              "<matplotlib.image.AxesImage at 0x7f8fc61fc240>"
            ]
          },
          "metadata": {
            "tags": []
          },
          "execution_count": 52
        },
        {
          "output_type": "display_data",
          "data": {
            "image/png": "[encoded data removed]",
            "text/plain": [
              "<Figure size 432x288 with 1 Axes>"
            ]
          },
          "metadata": {
            "tags": [],
            "needs_background": "light"
          }
        }
      ]
    },
    {
      "cell_type": "code",
      "metadata": {
        "id": "FGl-QBkMHZIG",
        "colab_type": "code",
        "colab": {}
      },
      "source": [
        "from sklearn.tree import DecisionTreeClassifier"
      ],
      "execution_count": 55,
      "outputs": []
    },
    {
      "cell_type": "code",
      "metadata": {
        "id": "YH4dgn8SIW_l",
        "colab_type": "code",
        "colab": {}
      },
      "source": [
        "dtree = DecisionTreeClassifier()"
      ],
      "execution_count": 56,
      "outputs": []
    },
    {
      "cell_type": "code",
      "metadata": {
        "id": "5_4S8p4NIekO",
        "colab_type": "code",
        "colab": {
          "base_uri": "https://localhost:8080/",
          "height": 126
        },
        "outputId": "ca0ab5e2-6b84-4736-93be-7992ccf9bd66"
      },
      "source": [
        "dtree.fit(mnist_train, cls_train)"
      ],
      "execution_count": 57,
      "outputs": [
        {
          "output_type": "execute_result",
          "data": {
            "text/plain": [
              "DecisionTreeClassifier(ccp_alpha=0.0, class_weight=None, criterion='gini',\n",
              "                       max_depth=None, max_features=None, max_leaf_nodes=None,\n",
              "                       min_impurity_decrease=0.0, min_impurity_split=None,\n",
              "                       min_samples_leaf=1, min_samples_split=2,\n",
              "                       min_weight_fraction_leaf=0.0, presort='deprecated',\n",
              "                       random_state=None, splitter='best')"
            ]
          },
          "metadata": {
            "tags": []
          },
          "execution_count": 57
        }
      ]
    },
    {
      "cell_type": "code",
      "metadata": {
        "id": "ctcS8wTQIwVt",
        "colab_type": "code",
        "colab": {
          "base_uri": "https://localhost:8080/",
          "height": 35
        },
        "outputId": "28cc1ee6-c7be-465c-ba5d-f2a9f02b54e1"
      },
      "source": [
        "dtree.predict(test_img)"
      ],
      "execution_count": 58,
      "outputs": [
        {
          "output_type": "execute_result",
          "data": {
            "text/plain": [
              "array([2])"
            ]
          },
          "metadata": {
            "tags": []
          },
          "execution_count": 58
        }
      ]
    },
    {
      "cell_type": "code",
      "metadata": {
        "id": "IcJsjCu-I7Dm",
        "colab_type": "code",
        "colab": {
          "base_uri": "https://localhost:8080/",
          "height": 35
        },
        "outputId": "b86f8fe7-c1fd-4030-b138-8401c48adf93"
      },
      "source": [
        "dtree.score(mnist_test, cls_test)"
      ],
      "execution_count": 59,
      "outputs": [
        {
          "output_type": "execute_result",
          "data": {
            "text/plain": [
              "0.8405840584058406"
            ]
          },
          "metadata": {
            "tags": []
          },
          "execution_count": 59
        }
      ]
    },
    {
      "cell_type": "code",
      "metadata": {
        "id": "L-FxkMpNJKeV",
        "colab_type": "code",
        "colab": {}
      },
      "source": [
        ""
      ],
      "execution_count": null,
      "outputs": []
    }
  ]
}