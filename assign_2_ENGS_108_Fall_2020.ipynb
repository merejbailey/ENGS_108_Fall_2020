{
  "nbformat": 4,
  "nbformat_minor": 0,
  "metadata": {
    "colab": {
      "name": "assign_2_ENGS_108_Fall_2020.ipynb",
      "provenance": [],
      "toc_visible": true,
      "mount_file_id": "https://github.com/yakaboskic/ENGS_108_Fall_2020/blob/master/assign_2_ENGS_108_Fall_2020.ipynb",
      "authorship_tag": "ABX9TyNsIMQFu1r+N4AvXwiKtLlx",
      "include_colab_link": true
    },
    "kernelspec": {
      "name": "python3",
      "display_name": "Python 3"
    }
  },
  "cells": [
    {
      "cell_type": "markdown",
      "metadata": {
        "id": "view-in-github",
        "colab_type": "text"
      },
      "source": [
        "<a href=\"https://colab.research.google.com/github/yakaboskic/ENGS_108_Fall_2020/blob/master/assign_2_ENGS_108_Fall_2020.ipynb\" target=\"_parent\"><img src=\"https://colab.research.google.com/assets/colab-badge.svg\" alt=\"Open In Colab\"/></a>"
      ]
    },
    {
      "cell_type": "markdown",
      "metadata": {
        "id": "Dd0qJjGWPDEY",
        "colab_type": "text"
      },
      "source": [
        "# **ENGS 108 Fall 2020 Assignment 2**\n",
        "\n",
        "*Due September 28, 2020 at 11:59PM on Canvas*\n",
        "\n",
        "**Instructors:** George Cybenko\n",
        "\n",
        "**TAs:** Chase Yakaboski\n",
        "\n",
        "\n",
        "---\n",
        "\n",
        "## **Rules and Requirements**\n",
        "\n",
        "\n",
        "1.   You are only allowed to use Python packages that are explicity imported in \n",
        "the assignment notebook or are standard (bultin) python libraries like random, os, sys, etc, (Standard Bultin Python libraries will have a Python.org documentation). For this assignment you may use:\n",
        "  *   [numpy](https://numpy.org/doc/stable/)\n",
        "  *   [pandas](https://pandas.pydata.org/pandas-docs/stable/index.html)\n",
        "  *   [scikit-learn](https://scikit-learn.org/stable/)\n",
        "  *   [matplotlib](https://matplotlib.org/)\n",
        "\n",
        "2.   All code must be fit into the designated code or text blocks in the assignment notebook. They are indentified by a **TODO** qualifier.\n",
        "\n",
        "3. For analytical questions that don't require code, type your answer cleanly in Markdown. For help, see the [Google Colab Markdown Guide](https://colab.research.google.com/notebooks/markdown_guide.ipynb).\n",
        "\n",
        "---\n"
      ]
    },
    {
      "cell_type": "code",
      "metadata": {
        "id": "AD5eAz9acxe9",
        "colab_type": "code",
        "colab": {}
      },
      "source": [
        "''' Import Statements '''\n",
        "import numpy as np\n",
        "import pandas as pd\n",
        "import sklearn\n",
        "import matplotlib.pyplot as plt"
      ],
      "execution_count": 1,
      "outputs": []
    },
    {
      "cell_type": "markdown",
      "metadata": {
        "id": "aFcqjf9VXHfF",
        "colab_type": "text"
      },
      "source": [
        "# **Data Loading**\n",
        "Upload the red and synthetic datasets to your google colab session using Google Drive. Read the following [tutorial](https://github.com/yakaboskic/ENGS_108_Fall_2020) for how to get setup. "
      ]
    },
    {
      "cell_type": "code",
      "metadata": {
        "id": "gSQSg2HkXaHF",
        "colab_type": "code",
        "colab": {}
      },
      "source": [
        "#TODO: Set your base datasets path. This is my base path, you will need to change to match yours. \n",
        "dataset_base_path = '/content/drive/My Drive/git/ENGS_108_Fall_2020/datasets'"
      ],
      "execution_count": 2,
      "outputs": []
    },
    {
      "cell_type": "code",
      "metadata": {
        "id": "-r2Nya5yV3hW",
        "colab_type": "code",
        "colab": {}
      },
      "source": [
        "#-- Everything else you should not need to change.\n",
        "import os\n",
        "import pickle\n",
        "\n",
        "#-- Gather paths\n",
        "synth_data_path = os.path.join(dataset_base_path, 'assign_2_synth_data.pk')\n",
        "red_train_path = os.path.join(dataset_base_path, 'red_train.csv')\n",
        "red_valid_path = os.path.join(dataset_base_path, 'red_valid.csv')\n",
        "red_test_path = os.path.join(dataset_base_path, 'red_test.csv')\n",
        "synth_train_path = os.path.join(dataset_base_path, 'synth_train.csv')\n",
        "synth_valid_path = os.path.join(dataset_base_path, 'synth_valid.csv')\n",
        "synth_test_path = os.path.join(dataset_base_path, 'synth_test.csv')\n",
        "\n",
        "#-- Load Synth_Data\n",
        "with open(synth_data_path, 'rb') as f_:\n",
        "  synth_data = pickle.load(f_)\n",
        "\n",
        "#-- Load Red Wine Data\n",
        "red_train_df = pd.read_csv(red_train_path)\n",
        "red_valid_df = pd.read_csv(red_valid_path)\n",
        "red_test_df = pd.read_csv(red_test_path)\n",
        "synth_train_df = pd.read_csv(synth_train_path)\n",
        "synth_valid_df = pd.read_csv(synth_valid_path)\n",
        "synth_test_df = pd.read_csv(synth_test_path)\n",
        "\n",
        "#-- Data is stored in a tuple of format (X, y) and are already converted to numpy arrays.\n",
        "red_train = (red_train_df.drop('quality', axis=1).to_numpy(), red_train_df['quality'].to_numpy())\n",
        "red_valid = (red_valid_df.drop('quality', axis=1).to_numpy(), red_valid_df['quality'].to_numpy())\n",
        "red_test = (red_test_df.drop('quality', axis=1).to_numpy(), red_test_df['quality'].to_numpy())\n",
        "\n",
        "#-- Load in Synth train, valid, test data with tuple format (X, y)\n",
        "synth_train = (synth_train_df.drop('y', axis=1).to_numpy(), synth_train_df['y'].to_numpy())\n",
        "synth_valid = (synth_valid_df.drop('y', axis=1).to_numpy(), synth_valid_df['y'].to_numpy())\n",
        "synth_test = (synth_test_df.drop('y', axis=1).to_numpy(), synth_test_df['y'].to_numpy())"
      ],
      "execution_count": 6,
      "outputs": []
    },
    {
      "cell_type": "markdown",
      "metadata": {
        "id": "mty9AB1bd5hH",
        "colab_type": "text"
      },
      "source": [
        "## **Problem 1: $K$-Means Clustering**\n",
        "In this problem, you will solve a clustering\n",
        "task using the k-means algorithm and an associated classification task using $k$ nearest neighbors algorithm, both of which you learned in class. The dataset for this problem is a synthetic two-dimensional dataset *synth_data*. Each entry has two features $(x_1, x_2)$.\n",
        ">\n",
        "> **Part 1** A reasonable first step in every machine learning task is to understand the dataset at hand. Proceed to explore this problem’s dataset by addressing the following:\n",
        ">> **(a)** Choose a suitable type of plot and visualize the training data."
      ]
    },
    {
      "cell_type": "code",
      "metadata": {
        "id": "zA0BN4jbfHe5",
        "colab_type": "code",
        "colab": {}
      },
      "source": [
        "#TODO: Write your code here. Use matplotlib for visualization."
      ],
      "execution_count": null,
      "outputs": []
    },
    {
      "cell_type": "markdown",
      "metadata": {
        "id": "T_Ln5qixfHwt",
        "colab_type": "text"
      },
      "source": [
        ">> **(b)** From your plot, how many clusters, $k$, would you estimate are represented in the dataset?"
      ]
    },
    {
      "cell_type": "markdown",
      "metadata": {
        "id": "SbT6Ux7HZ-zK",
        "colab_type": "text"
      },
      "source": [
        ""
      ]
    },
    {
      "cell_type": "markdown",
      "metadata": {
        "colab_type": "text",
        "id": "iAbCaDqZbL1x"
      },
      "source": [
        "**TODO:** *Type your answer in Markdown here.*\n",
        "\n"
      ]
    },
    {
      "cell_type": "markdown",
      "metadata": {
        "id": "Bgn4c2MOg0iJ",
        "colab_type": "text"
      },
      "source": [
        "> **Part 2** Build a model.\n",
        ">> **(a)** Using the k-Means algorithm, implement a clustering model. *Hint: Use [scikit-learn's K-means library](https://scikit-learn.org/stable/modules/generated/sklearn.cluster.KMeans.html).*"
      ]
    },
    {
      "cell_type": "code",
      "metadata": {
        "id": "FTw1K-iDg_MB",
        "colab_type": "code",
        "colab": {}
      },
      "source": [
        "#TODO: Write your code here. Hint: Just define a model, don't train yet."
      ],
      "execution_count": null,
      "outputs": []
    },
    {
      "cell_type": "markdown",
      "metadata": {
        "id": "XzcU0DxOg_nP",
        "colab_type": "text"
      },
      "source": [
        ">> **(b)** Train the clustering model on several reasonable values of $k$, taking into account your visual inspection from 1b. Plot the Bayesian information criterion (BIC) and Akaike information criterion (AIC) for each value of $k$."
      ]
    },
    {
      "cell_type": "code",
      "metadata": {
        "id": "mBApnd9Fg_05",
        "colab_type": "code",
        "colab": {}
      },
      "source": [
        "def train(k, dataset):\n",
        "  ''' Using your model above, implement a function that will train your K-means\n",
        "  for different values of k on your dataset and return the trained model'''\n",
        "  \n",
        "  return model"
      ],
      "execution_count": null,
      "outputs": []
    },
    {
      "cell_type": "code",
      "metadata": {
        "id": "dEOowF_m3bJO",
        "colab_type": "code",
        "colab": {}
      },
      "source": [
        "def calculateBIC(model):\n",
        "  ''' Using a trained model calculate the BIC for the model '''\n",
        "\n",
        "  return bic"
      ],
      "execution_count": null,
      "outputs": []
    },
    {
      "cell_type": "code",
      "metadata": {
        "id": "I9SIB_kq4HRy",
        "colab_type": "code",
        "colab": {}
      },
      "source": [
        "def calcuateAIC(model):\n",
        "  ''' Using a trained model calculate the AIC for the model '''\n",
        "  \n",
        "  return aic"
      ],
      "execution_count": null,
      "outputs": []
    },
    {
      "cell_type": "code",
      "metadata": {
        "id": "v8Dcu3Bp4U2J",
        "colab_type": "code",
        "colab": {}
      },
      "source": [
        "#TODO: Choose three different values of k based on your inspection and plot the BIC and AIC scores."
      ],
      "execution_count": null,
      "outputs": []
    },
    {
      "cell_type": "markdown",
      "metadata": {
        "id": "Udx0GcDrhALm",
        "colab_type": "text"
      },
      "source": [
        ">> **(c)** What value of $k$ is optimal? How does it compare to your visual inspection?\n"
      ]
    },
    {
      "cell_type": "markdown",
      "metadata": {
        "colab_type": "text",
        "id": "c905CDZt4_k1"
      },
      "source": [
        "**TODO:** *Type your answer in Markdown here.*\n",
        "\n"
      ]
    },
    {
      "cell_type": "code",
      "metadata": {
        "id": "8pFw9xJn5BNE",
        "colab_type": "code",
        "colab": {}
      },
      "source": [
        "#TODO: Write code and plot a graph showing the optimal value of k."
      ],
      "execution_count": null,
      "outputs": []
    },
    {
      "cell_type": "markdown",
      "metadata": {
        "id": "tSJ9s6hN5TUu",
        "colab_type": "text"
      },
      "source": [
        "# **Problem 2: $k$-NN Classification**\n",
        "In this problem, you will utilize data deriving\n",
        "from the same synthetic dataset as above. This time, the data has been separated into *synth_train*, *synth_valid* and *synth_test* arrays. Furthermore, each sample now includes a class label found in the $y$ column. These class labels come from the set $\\{1, 2, . . . , 31\\}$. *Note: These are not the same datasets as Problem 1.* \n",
        "\n",
        "> **Part 1** Train an implementation of the $k$-Nearest Neighbors algorithm on the training dataset. Note that $k$ here refers to the number of neighbors, not clusters."
      ]
    },
    {
      "cell_type": "code",
      "metadata": {
        "id": "0Lzq0T1555gV",
        "colab_type": "code",
        "colab": {}
      },
      "source": [
        "def train(k, dataset):\n",
        "  ''' Implement a function that will train a k-NN\n",
        "  for different values of k on your dataset and return the trained model'''\n",
        "  \n",
        "  return model"
      ],
      "execution_count": null,
      "outputs": []
    },
    {
      "cell_type": "markdown",
      "metadata": {
        "id": "eaCsGyAq550M",
        "colab_type": "text"
      },
      "source": [
        "> **Part 2** Report the classification accuracy of this model on the validation set for different values for $k$. Plot these accuracies against $k$ and report the optimal value for $k$."
      ]
    },
    {
      "cell_type": "code",
      "metadata": {
        "id": "7sLOw8_u56Lw",
        "colab_type": "code",
        "colab": {}
      },
      "source": [
        "#TODO: Write your code here."
      ],
      "execution_count": null,
      "outputs": []
    },
    {
      "cell_type": "markdown",
      "metadata": {
        "id": "pvzjgCff56r4",
        "colab_type": "text"
      },
      "source": [
        "> **Part 2** Report the classification accuracy of this model on the data in synth test.csv using the optimal value of $k$ that you found in Part 2."
      ]
    },
    {
      "cell_type": "code",
      "metadata": {
        "id": "0YQm5vtb56x6",
        "colab_type": "code",
        "colab": {}
      },
      "source": [
        "#TODO: Write your code here."
      ],
      "execution_count": null,
      "outputs": []
    },
    {
      "cell_type": "markdown",
      "metadata": {
        "id": "NZVKAG2E64s5",
        "colab_type": "text"
      },
      "source": [
        "# **Problem 3: Decision Tree Classification**\n",
        "In this problem you will use decision\n",
        "trees to classify the quality of red vinho verde wine samples based on their physicochemical properties. The dataset has been separated into *red_train, red_valid and red_test* arrays. For all of these files, the rightmost column (“quality”) is the target label for each datapoint. All other columns are features.\n",
        "\n",
        "> **Part 1** First let’s explore the datasets through the following exercises. Note that we cannot plot the data in a meaningful way given that number of features exceed the physical dimensions.\n",
        "\n",
        ">> **(a)** How many datapoints are in the training, validation, and testing sets?"
      ]
    },
    {
      "cell_type": "code",
      "metadata": {
        "id": "XoDNjQON7nxS",
        "colab_type": "code",
        "colab": {}
      },
      "source": [
        "#TODO: Write your code here."
      ],
      "execution_count": null,
      "outputs": []
    },
    {
      "cell_type": "markdown",
      "metadata": {
        "id": "K0Yt1Yaf7oEF",
        "colab_type": "text"
      },
      "source": [
        ">> **(b)** How many features are available for each datapoint?"
      ]
    },
    {
      "cell_type": "code",
      "metadata": {
        "id": "o5xtChuE7oSN",
        "colab_type": "code",
        "colab": {}
      },
      "source": [
        "#TODO: Write your code here."
      ],
      "execution_count": null,
      "outputs": []
    },
    {
      "cell_type": "markdown",
      "metadata": {
        "id": "UVyz3oIb7obw",
        "colab_type": "text"
      },
      "source": [
        ">> **(c)** What are the average *alcohol* and *pH* values for *training* samples?"
      ]
    },
    {
      "cell_type": "code",
      "metadata": {
        "id": "0OsKVlUH7o_K",
        "colab_type": "code",
        "colab": {}
      },
      "source": [
        "#TODO: Write your code here."
      ],
      "execution_count": null,
      "outputs": []
    },
    {
      "cell_type": "markdown",
      "metadata": {
        "id": "tBZ-bK0A8Bsm",
        "colab_type": "text"
      },
      "source": [
        "> **Part 2** Decision Trees.\n",
        "\n",
        ">> **(a)** Implement a binary decision tree model for the training data. *Hint: Try looking at the [scikit-learn decision tree library](https://scikit-learn.org/stable/modules/generated/sklearn.tree.DecisionTreeClassifier.html?highlight=decision%20tree#sklearn.tree.DecisionTreeClassifier).*"
      ]
    },
    {
      "cell_type": "code",
      "metadata": {
        "id": "5wTQK93A8jwe",
        "colab_type": "code",
        "colab": {}
      },
      "source": [
        "def train(dataset, max_depth=None):\n",
        "  ''' Implement a function that will train a decision tree model\n",
        "  on your dataset and return the trained model'''\n",
        "  \n",
        "  return model"
      ],
      "execution_count": null,
      "outputs": []
    },
    {
      "cell_type": "markdown",
      "metadata": {
        "id": "BxZJJn3Z86X6",
        "colab_type": "text"
      },
      "source": [
        ">> **(b)** There are a number of hyperparameters that can be tuned to improve your model, one of which is the criteria for ending the splitting process. Two common ways of terminating the splitting process are *maximum depth* of the tree or *minimum number of samples* left. Tune the *maximum depth* of the tree by reporting the accuracy of the classifier in 2a on the validation set for different settings of *maximum depth*. Plot your findings."
      ]
    },
    {
      "cell_type": "code",
      "metadata": {
        "id": "4jA6sF8X9VPy",
        "colab_type": "code",
        "colab": {}
      },
      "source": [
        "#TODO: Write your code here and plot your results."
      ],
      "execution_count": null,
      "outputs": []
    },
    {
      "cell_type": "markdown",
      "metadata": {
        "id": "7_0VndV69z6H",
        "colab_type": "text"
      },
      "source": [
        ">> **(c)** Use the optimum setting of *maximum depth* found in 2b to report the accuracy of the classifier on the *test* dataset."
      ]
    },
    {
      "cell_type": "code",
      "metadata": {
        "id": "N-IBzhZ_9kOv",
        "colab_type": "code",
        "colab": {}
      },
      "source": [
        "#TODO: Write your code here."
      ],
      "execution_count": null,
      "outputs": []
    }
  ]
}